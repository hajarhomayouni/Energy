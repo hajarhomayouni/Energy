{
 "cells": [
  {
   "cell_type": "code",
   "execution_count": 1,
   "metadata": {},
   "outputs": [],
   "source": [
    "import pandas as pd"
   ]
  },
  {
   "cell_type": "code",
   "execution_count": 2,
   "metadata": {},
   "outputs": [],
   "source": [
    "pdGS = pd.read_csv('sourceData/GS_Energy.csv')\n",
    "pdGS25 = pd.read_csv('sourceData/GS25_Energy.csv')\n",
    "pdGS50 = pd.read_csv('sourceData/GS50_Energy.csv')\n",
    "pdGS750 = pd.read_csv('sourceData/GS750_Energy.csv')\n",
    "pdRes = pd.read_csv('sourceData/Res_Energy.csv')\n",
    "pdUnknown = pd.read_csv('sourceData/Unknown_Energy.csv')\n",
    "\n",
    "dataList = [pdGS, pdGS25, pdGS50, pdGS750, pdRes, pdUnknown]\n",
    "\n",
    "dict_dailyDelivered = {}\n",
    "dict_Temp = {}\n",
    "dict_isWeekend = {}\n",
    "\n",
    "for pddf in dataList:\n",
    "    for idx, row in pddf.iterrows():\n",
    "        if row['time'] not in dict_dailyDelivered:\n",
    "            dict_dailyDelivered[row['time']] = row['dailyDelivered']\n",
    "        else:\n",
    "            dict_dailyDelivered[row['time']] += row['dailyDelivered']\n",
    "        \n",
    "        if row['time'] not in dict_Temp:\n",
    "            dict_Temp[row['time']] = row['Temp']\n",
    "            dict_isWeekend[row['time']] = row['isWeekend']\n",
    "    \n",
    "index = 1\n",
    "cols = ['idx', 'time', 'Temp', 'dailyDelivered', 'isWeekend']\n",
    "outdata = []\n",
    "for key, value in dict_dailyDelivered.items():\n",
    "    outdata.append([index, key, dict_Temp[key], value, dict_isWeekend[key]])\n",
    "    index = index + 1\n",
    "\n",
    "df_out = pd.DataFrame(outdata, columns = cols)\n",
    "df_out.to_csv('D:/Energy/sourceData/All_Energy.csv')"
   ]
  },
  {
   "cell_type": "code",
   "execution_count": null,
   "metadata": {},
   "outputs": [],
   "source": []
  }
 ],
 "metadata": {
  "kernelspec": {
   "display_name": "Python 3",
   "language": "python",
   "name": "python3"
  },
  "language_info": {
   "codemirror_mode": {
    "name": "ipython",
    "version": 3
   },
   "file_extension": ".py",
   "mimetype": "text/x-python",
   "name": "python",
   "nbconvert_exporter": "python",
   "pygments_lexer": "ipython3",
   "version": "3.6.8"
  }
 },
 "nbformat": 4,
 "nbformat_minor": 2
}
